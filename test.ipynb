{
 "cells": [
  {
   "cell_type": "code",
   "execution_count": 1,
   "id": "c651e04e-1ba3-436e-bb5e-7c7843d2fcc8",
   "metadata": {},
   "outputs": [],
   "source": [
    "import numpy as np \n",
    "from sklearn.datasets import make_regression\n",
    "import matplotlib.pyplot as plt"
   ]
  },
  {
   "cell_type": "code",
   "execution_count": 3,
   "id": "ddb30268-625b-4e3e-b705-0369591b96d2",
   "metadata": {},
   "outputs": [
    {
     "data": {
      "text/plain": [
       "<matplotlib.collections.PathCollection at 0x190cacccd30>"
      ]
     },
     "execution_count": 3,
     "metadata": {},
     "output_type": "execute_result"
    },
    {
     "data": {
      "image/png": "[encoded data removed]",
      "text/plain": [
       "<Figure size 640x480 with 1 Axes>"
      ]
     },
     "metadata": {},
     "output_type": "display_data"
    }
   ],
   "source": [
    "x , y =make_regression(n_samples = 100,n_features = 1,noise = 10)\n",
    "plt.scatter(x,y)"
   ]
  },
  {
   "cell_type": "code",
   "execution_count": 8,
   "id": "559a326d-ec0a-4ded-9139-cdb82d811550",
   "metadata": {},
   "outputs": [
    {
     "name": "stdout",
     "output_type": "stream",
     "text": [
      "(100, 1)\n",
      "(100, 1)\n"
     ]
    }
   ],
   "source": [
    "print(x.shape)\n",
    "y = y.reshape(y.shape[0],1)\n",
    "print(y.shape)"
   ]
  },
  {
   "cell_type": "code",
   "execution_count": 11,
   "id": "bf335bff-ab39-4ef5-af04-ff699be2b6a2",
   "metadata": {},
   "outputs": [
    {
     "data": {
      "text/plain": [
       "(100, 2)"
      ]
     },
     "execution_count": 11,
     "metadata": {},
     "output_type": "execute_result"
    }
   ],
   "source": [
    "#matrice\n",
    "X = np.hstack((x,np.ones(x.shape)))\n",
    "X.shape"
   ]
  },
  {
   "cell_type": "code",
   "execution_count": 12,
   "id": "492c2683-7765-4a60-9d9f-403075195eb8",
   "metadata": {},
   "outputs": [
    {
     "data": {
      "text/plain": [
       "array([[ 0.36707952,  1.        ],\n",
       "       [-0.7929984 ,  1.        ],\n",
       "       [-0.29676773,  1.        ],\n",
       "       [-0.83957677,  1.        ],\n",
       "       [-0.84643184,  1.        ],\n",
       "       [-0.93487157,  1.        ],\n",
       "       [-0.72208485,  1.        ],\n",
       "       [-0.66637212,  1.        ],\n",
       "       [ 1.17067856,  1.        ],\n",
       "       [-0.37847364,  1.        ],\n",
       "       [-0.37107142,  1.        ],\n",
       "       [ 0.6176152 ,  1.        ],\n",
       "       [-0.06523801,  1.        ],\n",
       "       [-0.4782131 ,  1.        ],\n",
       "       [-0.35497261,  1.        ],\n",
       "       [-1.61557582,  1.        ],\n",
       "       [ 1.13653319,  1.        ],\n",
       "       [ 0.15872026,  1.        ],\n",
       "       [-1.6039657 ,  1.        ],\n",
       "       [ 0.53644462,  1.        ],\n",
       "       [-1.49519884,  1.        ],\n",
       "       [-0.59615223,  1.        ],\n",
       "       [ 1.03684759,  1.        ],\n",
       "       [-0.26642861,  1.        ],\n",
       "       [ 0.74474274,  1.        ],\n",
       "       [-2.74590963,  1.        ],\n",
       "       [-0.20384246,  1.        ],\n",
       "       [ 0.80682297,  1.        ],\n",
       "       [ 0.44283307,  1.        ],\n",
       "       [-1.0960889 ,  1.        ],\n",
       "       [ 1.69511263,  1.        ],\n",
       "       [-0.21655962,  1.        ],\n",
       "       [-0.83447225,  1.        ],\n",
       "       [-0.69939882,  1.        ],\n",
       "       [-0.62477507,  1.        ],\n",
       "       [-0.54697491,  1.        ],\n",
       "       [ 0.46675707,  1.        ],\n",
       "       [-0.51032259,  1.        ],\n",
       "       [-2.06168058,  1.        ],\n",
       "       [-1.19238919,  1.        ],\n",
       "       [-0.24274654,  1.        ],\n",
       "       [ 0.41696337,  1.        ],\n",
       "       [-1.22520648,  1.        ],\n",
       "       [-1.48901494,  1.        ],\n",
       "       [ 0.96147565,  1.        ],\n",
       "       [ 0.09754139,  1.        ],\n",
       "       [ 2.37145887,  1.        ],\n",
       "       [-1.0635293 ,  1.        ],\n",
       "       [-1.04290348,  1.        ],\n",
       "       [-0.79092535,  1.        ],\n",
       "       [ 0.27487333,  1.        ],\n",
       "       [-0.89715722,  1.        ],\n",
       "       [-1.6848821 ,  1.        ],\n",
       "       [-1.71907566,  1.        ],\n",
       "       [ 1.13922842,  1.        ],\n",
       "       [ 0.011196  ,  1.        ],\n",
       "       [-0.14551184,  1.        ],\n",
       "       [-0.02820078,  1.        ],\n",
       "       [-0.04931713,  1.        ],\n",
       "       [ 1.35484365,  1.        ],\n",
       "       [-0.10263246,  1.        ],\n",
       "       [ 2.23376843,  1.        ],\n",
       "       [-1.57840405,  1.        ],\n",
       "       [ 1.30863006,  1.        ],\n",
       "       [ 0.34066148,  1.        ],\n",
       "       [ 1.03240931,  1.        ],\n",
       "       [ 0.61414909,  1.        ],\n",
       "       [ 1.64612948,  1.        ],\n",
       "       [ 0.61240045,  1.        ],\n",
       "       [-0.92012699,  1.        ],\n",
       "       [ 1.1939186 ,  1.        ],\n",
       "       [-0.05589184,  1.        ],\n",
       "       [ 1.11476355,  1.        ],\n",
       "       [-1.81701921,  1.        ],\n",
       "       [ 0.72532337,  1.        ],\n",
       "       [-0.37734413,  1.        ],\n",
       "       [-1.06282324,  1.        ],\n",
       "       [ 0.24454633,  1.        ],\n",
       "       [-1.53892747,  1.        ],\n",
       "       [ 0.62755781,  1.        ],\n",
       "       [-0.87902908,  1.        ],\n",
       "       [-1.24468652,  1.        ],\n",
       "       [-0.35288171,  1.        ],\n",
       "       [ 0.90658373,  1.        ],\n",
       "       [ 0.48505463,  1.        ],\n",
       "       [-0.66912055,  1.        ],\n",
       "       [ 0.59417971,  1.        ],\n",
       "       [-0.02879578,  1.        ],\n",
       "       [-0.12975301,  1.        ],\n",
       "       [ 0.73858111,  1.        ],\n",
       "       [-0.67328867,  1.        ],\n",
       "       [-0.24777054,  1.        ],\n",
       "       [ 0.46489543,  1.        ],\n",
       "       [ 0.96897561,  1.        ],\n",
       "       [-2.40796976,  1.        ],\n",
       "       [-0.10496317,  1.        ],\n",
       "       [-0.43030774,  1.        ],\n",
       "       [-0.44842807,  1.        ],\n",
       "       [ 0.26290132,  1.        ],\n",
       "       [-1.0682987 ,  1.        ]])"
      ]
     },
     "execution_count": 12,
     "metadata": {},
     "output_type": "execute_result"
    }
   ],
   "source": [
    "X\n"
   ]
  },
  {
   "cell_type": "code",
   "execution_count": 13,
   "id": "5c15a20e-016d-48ef-a207-8183bc870c06",
   "metadata": {},
   "outputs": [
    {
     "data": {
      "text/plain": [
       "array([[1.1203812 ],\n",
       "       [1.40529332]])"
      ]
     },
     "execution_count": 13,
     "metadata": {},
     "output_type": "execute_result"
    }
   ],
   "source": [
    "theta = np.random.randn(2,1)\n",
    "theta\n"
   ]
  },
  {
   "cell_type": "code",
   "execution_count": 14,
   "id": "3c286406-41d9-41ef-9df1-f8f82504c448",
   "metadata": {},
   "outputs": [
    {
     "data": {
      "text/plain": [
       "(2, 1)"
      ]
     },
     "execution_count": 14,
     "metadata": {},
     "output_type": "execute_result"
    }
   ],
   "source": [
    "theta.shape"
   ]
  },
  {
   "cell_type": "code",
   "execution_count": 15,
   "id": "2cc84d49-309b-43fb-9697-342bd09ba4f0",
   "metadata": {},
   "outputs": [],
   "source": [
    "#model"
   ]
  },
  {
   "cell_type": "code",
   "execution_count": 18,
   "id": "4ab627f0-1e78-4240-8adc-a1bea81d5b5e",
   "metadata": {},
   "outputs": [],
   "source": [
    "def model(X , theta):\n",
    "    return X.dot(theta)"
   ]
  },
  {
   "cell_type": "code",
   "execution_count": 19,
   "id": "83863651-521f-4766-93e2-7db68f4d2e29",
   "metadata": {},
   "outputs": [
    {
     "ename": "AttributeError",
     "evalue": "'numpy.ndarray' object has no attribute 'theta'",
     "output_type": "error",
     "traceback": [
      "\u001b[1;31m---------------------------------------------------------------------------\u001b[0m",
      "\u001b[1;31mAttributeError\u001b[0m                            Traceback (most recent call last)",
      "Cell \u001b[1;32mIn[19], line 1\u001b[0m\n\u001b[1;32m----> 1\u001b[0m model(\u001b[43mX\u001b[49m\u001b[38;5;241;43m.\u001b[39;49m\u001b[43mtheta\u001b[49m)\n",
      "\u001b[1;31mAttributeError\u001b[0m: 'numpy.ndarray' object has no attribute 'theta'"
     ]
    }
   ],
   "source": [
    "model(X.theta)"
   ]
  },
  {
   "cell_type": "code",
   "execution_count": null,
   "id": "35862dc7-2653-4de2-8890-bdfd80490b1a",
   "metadata": {},
   "outputs": [],
   "source": []
  }
 ],
 "metadata": {
  "kernelspec": {
   "display_name": "Python 3 (ipykernel)",
   "language": "python",
   "name": "python3"
  },
  "language_info": {
   "codemirror_mode": {
    "name": "ipython",
    "version": 3
   },
   "file_extension": ".py",
   "mimetype": "text/x-python",
   "name": "python",
   "nbconvert_exporter": "python",
   "pygments_lexer": "ipython3",
   "version": "3.10.10"
  }
 },
 "nbformat": 4,
 "nbformat_minor": 5
}
